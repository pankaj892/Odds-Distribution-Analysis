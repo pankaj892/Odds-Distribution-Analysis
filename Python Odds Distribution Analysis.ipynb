{
 "cells": [
  {
   "cell_type": "code",
   "execution_count": 37,
   "metadata": {},
   "outputs": [
    {
     "name": "stdout",
     "output_type": "stream",
     "text": [
      "Enter stock name or index symbol as per on Yahoo Finance website: TCS.NS\n",
      "Enter start date: 2011-01-01\n",
      "Enter end date: 2021-01-01\n",
      "Enter the time interval: 1m\n",
      "[*********************100%***********************]  1 of 1 completed\n"
     ]
    },
    {
     "data": {
      "image/png": "[encoded data removed]",
      "text/plain": [
       "<Figure size 432x288 with 1 Axes>"
      ]
     },
     "metadata": {
      "needs_background": "light"
     },
     "output_type": "display_data"
    }
   ],
   "source": [
    "import yfinance as yf\n",
    "import pandas as pd\n",
    "import matplotlib.pyplot as plt\n",
    "%matplotlib inline\n",
    "# Get the data for the NSE by specifying the stock ticker, start date, and end date\n",
    "stock = input('Enter stock name or index symbol as per on Yahoo Finance website: ')\n",
    "start_date = input('Enter start date in format YY-MM-DD: ')\n",
    "end_date = input('Enter end date in format YY-MM-DD: ')\n",
    "interval = input(\"Enter the time interval: \")\n",
    "data = yf.download(str(stock),str(start_date),str(end_date),str(interval))\n",
    "x = ((data['Close'] - data['Open'])/data['Open']).round(3)\n",
    "x = x.hist()\n",
    "plt.show()"
   ]
  },
  {
   "cell_type": "code",
   "execution_count": null,
   "metadata": {},
   "outputs": [],
   "source": []
  }
 ],
 "metadata": {
  "kernelspec": {
   "display_name": "Python 3",
   "language": "python",
   "name": "python3"
  },
  "language_info": {
   "codemirror_mode": {
    "name": "ipython",
    "version": 3
   },
   "file_extension": ".py",
   "mimetype": "text/x-python",
   "name": "python",
   "nbconvert_exporter": "python",
   "pygments_lexer": "ipython3",
   "version": "3.7.4"
  }
 },
 "nbformat": 4,
 "nbformat_minor": 4
}
